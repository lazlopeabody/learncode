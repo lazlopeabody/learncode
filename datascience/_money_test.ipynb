{
 "metadata": {
  "language_info": {
   "codemirror_mode": {
    "name": "ipython",
    "version": 3
   },
   "file_extension": ".py",
   "mimetype": "text/x-python",
   "name": "python",
   "nbconvert_exporter": "python",
   "pygments_lexer": "ipython3",
   "version": "3.8.5"
  },
  "orig_nbformat": 4,
  "kernelspec": {
   "name": "python3",
   "display_name": "Python 3.8.5 64-bit ('juslearn': conda)"
  },
  "interpreter": {
   "hash": "a151ed374657309399594241976f2ab9cb2307b7929a2a67f663721314b940cd"
  }
 },
 "nbformat": 4,
 "nbformat_minor": 2,
 "cells": [
  {
   "cell_type": "code",
   "execution_count": 1,
   "metadata": {},
   "outputs": [],
   "source": [
    "import json"
   ]
  },
  {
   "cell_type": "code",
   "execution_count": null,
   "metadata": {},
   "outputs": [],
   "source": [
    "class ServiceData:\n",
    "    \n",
    "    def __init__(self, )\n",
    "\n",
    "    data = {\n",
    "    \"service_name\":\"\",\n",
    "    \"service_type\":\"music\",\n",
    "    \"service_cost\":12.99,\n",
    "    \"service_billing_period\":\"monthly\",\n",
    "    \"service_status\": \"active\",\n",
    "    \"service_startdate\":\n",
    "}"
   ]
  },
  {
   "cell_type": "code",
   "execution_count": null,
   "metadata": {},
   "outputs": [],
   "source": [
    "with open(\"money_data.json\") as record:\n",
    "    json.dump()"
   ]
  }
 ]
}