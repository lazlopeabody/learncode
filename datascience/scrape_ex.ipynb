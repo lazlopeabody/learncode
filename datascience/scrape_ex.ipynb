{
 "metadata": {
  "language_info": {
   "codemirror_mode": {
    "name": "ipython",
    "version": 3
   },
   "file_extension": ".py",
   "mimetype": "text/x-python",
   "name": "python",
   "nbconvert_exporter": "python",
   "pygments_lexer": "ipython3",
   "version": "3.8.5"
  },
  "orig_nbformat": 4,
  "kernelspec": {
   "name": "python3",
   "display_name": "Python 3.8.5 64-bit ('juslearn': conda)"
  },
  "interpreter": {
   "hash": "a151ed374657309399594241976f2ab9cb2307b7929a2a67f663721314b940cd"
  }
 },
 "nbformat": 4,
 "nbformat_minor": 2,
 "cells": [
  {
   "cell_type": "code",
   "execution_count": 20,
   "metadata": {},
   "outputs": [],
   "source": [
    "# Import Libraries\n",
    "import pandas as pd\n",
    "from bs4 import BeautifulSoup\n",
    "import requests"
   ]
  },
  {
   "cell_type": "code",
   "execution_count": 21,
   "metadata": {},
   "outputs": [],
   "source": [
    "# assign URL to be scraped to a variable\n",
    "url = \"https://www.codeacademy.com/\""
   ]
  },
  {
   "cell_type": "code",
   "execution_count": 22,
   "metadata": {},
   "outputs": [],
   "source": [
    "# send request to download the data from URL\n",
    "response = requests.request(\"GET\", url)"
   ]
  },
  {
   "cell_type": "code",
   "execution_count": 23,
   "metadata": {},
   "outputs": [],
   "source": [
    "# create BS object, use HTML parser to parse the page's text\n",
    "data = BeautifulSoup(response.text, 'html.parser')"
   ]
  },
  {
   "cell_type": "code",
   "execution_count": 24,
   "metadata": {},
   "outputs": [
    {
     "output_type": "stream",
     "name": "stdout",
     "text": [
      "<h1 class=\"gamut-nfav5q-Text-Header e1gidkku0\">Join the millions learning to code with Codecademy for free</h1>\n"
     ]
    }
   ],
   "source": [
    "#print first header of page\n",
    "print(data.html.h1)"
   ]
  },
  {
   "cell_type": "code",
   "execution_count": 25,
   "metadata": {},
   "outputs": [],
   "source": [
    "# instantiate list to append some content\n",
    "content = []"
   ]
  },
  {
   "cell_type": "code",
   "execution_count": 26,
   "metadata": {},
   "outputs": [],
   "source": [
    "# use beautifulsoup's find_all method to find all paragraph tags\n",
    "words = data.find_all('p')"
   ]
  },
  {
   "cell_type": "code",
   "execution_count": 27,
   "metadata": {},
   "outputs": [],
   "source": [
    "# Iterate through all paragraph tags, append text to list with for loop\n",
    "for word in words:\n",
    "    content.append(word.text)"
   ]
  },
  {
   "cell_type": "code",
   "execution_count": 28,
   "metadata": {},
   "outputs": [
    {
     "output_type": "stream",
     "name": "stdout",
     "text": [
      "['Codecademy requires that you have a secure password. If your password is too weak, make sure you:', \"By signing up for Codecademy, you agree to Codecademy's Terms of Service & Privacy Policy.\", 'Explore All', 'Javascript', 'Explore All', 'Python', 'Explore All', 'Web Development', 'Explore All', 'Data Science']\n"
     ]
    }
   ],
   "source": [
    "# check content appended\n",
    "print(content)"
   ]
  },
  {
   "cell_type": "code",
   "execution_count": 29,
   "metadata": {},
   "outputs": [],
   "source": [
    "df = pd.DataFrame(content, columns= ['Text'])"
   ]
  },
  {
   "cell_type": "code",
   "execution_count": 30,
   "metadata": {},
   "outputs": [
    {
     "output_type": "stream",
     "name": "stdout",
     "text": [
      "                                                Text\n0  Codecademy requires that you have a secure pas...\n1  By signing up for Codecademy, you agree to Cod...\n2                                        Explore All\n3                                         Javascript\n4                                        Explore All\n5                                             Python\n6                                        Explore All\n7                                    Web Development\n8                                        Explore All\n9                                       Data Science\n"
     ]
    }
   ],
   "source": [
    "# check scraped dataframe\n",
    "print(df)"
   ]
  },
  {
   "cell_type": "code",
   "execution_count": 5,
   "metadata": {},
   "outputs": [],
   "source": [
    "import sqlite3"
   ]
  },
  {
   "cell_type": "code",
   "execution_count": 6,
   "metadata": {},
   "outputs": [],
   "source": [
    "conn = sqlite3.connect(\"test.db\", timeout=10)\n",
    "cursor = conn.cursor()"
   ]
  },
  {
   "cell_type": "code",
   "execution_count": 7,
   "metadata": {},
   "outputs": [
    {
     "output_type": "error",
     "ename": "OperationalError",
     "evalue": "table students already exists",
     "traceback": [
      "\u001b[0;31m---------------------------------------------------------------------------\u001b[0m",
      "\u001b[0;31mOperationalError\u001b[0m                          Traceback (most recent call last)",
      "\u001b[0;32m<ipython-input-7-be890914e695>\u001b[0m in \u001b[0;36m<module>\u001b[0;34m\u001b[0m\n\u001b[0;32m----> 1\u001b[0;31m cursor.execute('''CREATE TABLE students (\n\u001b[0m\u001b[1;32m      2\u001b[0m                     \u001b[0mid\u001b[0m \u001b[0mINTEGER\u001b[0m \u001b[0mPRIMARY\u001b[0m \u001b[0mKEY\u001b[0m\u001b[0;34m,\u001b[0m\u001b[0;34m\u001b[0m\u001b[0;34m\u001b[0m\u001b[0m\n\u001b[1;32m      3\u001b[0m                     \u001b[0mname\u001b[0m \u001b[0mTEXT\u001b[0m \u001b[0mNOT\u001b[0m \u001b[0mNULL\u001b[0m\u001b[0;34m,\u001b[0m\u001b[0;34m\u001b[0m\u001b[0;34m\u001b[0m\u001b[0m\n\u001b[1;32m      4\u001b[0m                     \u001b[0memail\u001b[0m \u001b[0mTEXT\u001b[0m \u001b[0mNOT\u001b[0m \u001b[0mNULL\u001b[0m \u001b[0mUNIQUE\u001b[0m\u001b[0;34m,\u001b[0m\u001b[0;34m\u001b[0m\u001b[0;34m\u001b[0m\u001b[0m\n\u001b[1;32m      5\u001b[0m                     \u001b[0mmajor_code\u001b[0m \u001b[0mINTEGER\u001b[0m\u001b[0;34m,\u001b[0m\u001b[0;34m\u001b[0m\u001b[0;34m\u001b[0m\u001b[0m\n",
      "\u001b[0;31mOperationalError\u001b[0m: table students already exists"
     ]
    }
   ],
   "source": [
    "cursor.execute('''CREATE TABLE students (\n",
    "                    id INTEGER PRIMARY KEY, \n",
    "                    name TEXT NOT NULL, \n",
    "                    email TEXT NOT NULL UNIQUE, \n",
    "                    major_code INTEGER, \n",
    "                    grad_date datetime, \n",
    "                    grade REAL NOT NULL)''')"
   ]
  },
  {
   "cell_type": "code",
   "execution_count": 11,
   "metadata": {},
   "outputs": [
    {
     "output_type": "execute_result",
     "data": {
      "text/plain": [
       "<sqlite3.Cursor at 0x7f7b481d0e30>"
      ]
     },
     "metadata": {},
     "execution_count": 11
    }
   ],
   "source": [
    "cursor.execute('''INSERT INTO students VALUES (101, 'Alex', 'alex@codeu.com', 32, '2022-05-16', 'Pass') ''')"
   ]
  },
  {
   "cell_type": "code",
   "execution_count": 10,
   "metadata": {},
   "outputs": [],
   "source": [
    "students = [(102, 'Joe', 'joseph@codeu.com', 32, '2022-05-16', 'Pass'), (103, 'Stacy', 'stacy@codeu.com', 10, '2022-05-16', 'Pass'), (104, 'Angela', 'angela@codeu.com', 21, '2022-12-20', 'Pass'), (105, 'Mark', 'mark@codeu.com', 21, '2022-12-20', 'Fail'), (106, 'Nathan', 'nathaniel@codeu.com', 21, '2022-12-20', 'Pass')\n",
    "]"
   ]
  },
  {
   "cell_type": "code",
   "execution_count": 12,
   "metadata": {},
   "outputs": [
    {
     "output_type": "execute_result",
     "data": {
      "text/plain": [
       "<sqlite3.Cursor at 0x7f7b481d0e30>"
      ]
     },
     "metadata": {},
     "execution_count": 12
    }
   ],
   "source": [
    "cursor.executemany('''INSERT INTO students VALUES (?,?,?,?,?,?)''', students)"
   ]
  },
  {
   "cell_type": "code",
   "execution_count": 13,
   "metadata": {},
   "outputs": [
    {
     "output_type": "stream",
     "name": "stdout",
     "text": [
      "(101, 'Alex', 'alex@codeu.com', 32, '2022-05-16', 'Pass')\n(102, 'Joe', 'joseph@codeu.com', 32, '2022-05-16', 'Pass')\n(103, 'Stacy', 'stacy@codeu.com', 10, '2022-05-16', 'Pass')\n(104, 'Angela', 'angela@codeu.com', 21, '2022-12-20', 'Pass')\n(105, 'Mark', 'mark@codeu.com', 21, '2022-12-20', 'Fail')\n(106, 'Nathan', 'nathaniel@codeu.com', 21, '2022-12-20', 'Pass')\n"
     ]
    }
   ],
   "source": [
    "for row in cursor.execute(\"SELECT * FROM students\"):\n",
    "    print(row)"
   ]
  },
  {
   "cell_type": "code",
   "execution_count": 14,
   "metadata": {},
   "outputs": [
    {
     "output_type": "execute_result",
     "data": {
      "text/plain": [
       "(101, 'Alex', 'alex@codeu.com', 32, '2022-05-16', 'Pass')"
      ]
     },
     "metadata": {},
     "execution_count": 14
    }
   ],
   "source": [
    "cursor.execute(\"SELECT * FROM students\").fetchone()"
   ]
  },
  {
   "cell_type": "code",
   "execution_count": 15,
   "metadata": {},
   "outputs": [
    {
     "output_type": "execute_result",
     "data": {
      "text/plain": [
       "[(101, 'Alex', 'alex@codeu.com', 32, '2022-05-16', 'Pass'),\n",
       " (102, 'Joe', 'joseph@codeu.com', 32, '2022-05-16', 'Pass'),\n",
       " (103, 'Stacy', 'stacy@codeu.com', 10, '2022-05-16', 'Pass')]"
      ]
     },
     "metadata": {},
     "execution_count": 15
    }
   ],
   "source": [
    "cursor.execute(\"SELECT * FROM students\").fetchmany(3)"
   ]
  },
  {
   "cell_type": "code",
   "execution_count": 16,
   "metadata": {},
   "outputs": [
    {
     "output_type": "execute_result",
     "data": {
      "text/plain": [
       "[(101, 'Alex', 'alex@codeu.com', 32, '2022-05-16', 'Pass'),\n",
       " (102, 'Joe', 'joseph@codeu.com', 32, '2022-05-16', 'Pass'),\n",
       " (103, 'Stacy', 'stacy@codeu.com', 10, '2022-05-16', 'Pass'),\n",
       " (104, 'Angela', 'angela@codeu.com', 21, '2022-12-20', 'Pass'),\n",
       " (105, 'Mark', 'mark@codeu.com', 21, '2022-12-20', 'Fail'),\n",
       " (106, 'Nathan', 'nathaniel@codeu.com', 21, '2022-12-20', 'Pass')]"
      ]
     },
     "metadata": {},
     "execution_count": 16
    }
   ],
   "source": [
    "cursor.execute(\"SELECT * FROM students\").fetchall()"
   ]
  },
  {
   "cell_type": "code",
   "execution_count": 17,
   "metadata": {},
   "outputs": [
    {
     "output_type": "execute_result",
     "data": {
      "text/plain": [
       "(5,)"
      ]
     },
     "metadata": {},
     "execution_count": 17
    }
   ],
   "source": [
    "cursor.execute(\"\"\"SELECT COUNT(*) FROM students WHERE Grade = 'Pass'; \"\"\").fetchone()"
   ]
  },
  {
   "cell_type": "code",
   "execution_count": 18,
   "metadata": {},
   "outputs": [
    {
     "output_type": "stream",
     "name": "stdout",
     "text": [
      "22.833333333333332\n"
     ]
    }
   ],
   "source": [
    "major_codes = cursor.execute(\"SELECT major_code FROM students;\").fetchall()\n",
    "\n",
    "sum = 0\n",
    "for num in major_codes:\n",
    "    for i in num:\n",
    "        sum = sum + i\n",
    "\n",
    "average = sum / len(major_codes)\n",
    "\n",
    "# show average\n",
    "print(average)"
   ]
  },
  {
   "cell_type": "code",
   "execution_count": 31,
   "metadata": {},
   "outputs": [
    {
     "output_type": "stream",
     "name": "stdout",
     "text": [
      "    id    name                email  major_code   grad_date grade\n0  101    Alex       alex@codeu.com          32  2022-05-16  Pass\n1  102     Joe     joseph@codeu.com          32  2022-05-16  Pass\n2  103   Stacy      stacy@codeu.com          10  2022-05-16  Pass\n3  104  Angela     angela@codeu.com          21  2022-12-20  Pass\n4  105    Mark       mark@codeu.com          21  2022-12-20  Fail\n5  106  Nathan  nathaniel@codeu.com          21  2022-12-20  Pass\n"
     ]
    }
   ],
   "source": [
    "_df = pd.read_sql_query('''SELECT * from students;''', conn)\n",
    "print(_df)"
   ]
  },
  {
   "cell_type": "code",
   "execution_count": 32,
   "metadata": {},
   "outputs": [
    {
     "output_type": "execute_result",
     "data": {
      "text/plain": [
       "22.833333333333332"
      ]
     },
     "metadata": {},
     "execution_count": 32
    }
   ],
   "source": [
    "_df['major_code'].mean()"
   ]
  },
  {
   "cell_type": "code",
   "execution_count": 34,
   "metadata": {},
   "outputs": [],
   "source": [
    "df = pd.read_csv(\"https://raw.githubusercontent.com/datasciencedojo/datasets/master/titanic.csv\")"
   ]
  },
  {
   "cell_type": "code",
   "execution_count": 35,
   "metadata": {},
   "outputs": [
    {
     "output_type": "error",
     "ename": "ValueError",
     "evalue": "Table 'titanic' already exists.",
     "traceback": [
      "\u001b[0;31m---------------------------------------------------------------------------\u001b[0m",
      "\u001b[0;31mValueError\u001b[0m                                Traceback (most recent call last)",
      "\u001b[0;32m<ipython-input-35-f80e74847975>\u001b[0m in \u001b[0;36m<module>\u001b[0;34m\u001b[0m\n\u001b[1;32m      1\u001b[0m \u001b[0mconnection\u001b[0m \u001b[0;34m=\u001b[0m \u001b[0msqlite3\u001b[0m\u001b[0;34m.\u001b[0m\u001b[0mconnect\u001b[0m\u001b[0;34m(\u001b[0m\u001b[0;34m\"titanic.db\"\u001b[0m\u001b[0;34m)\u001b[0m\u001b[0;34m\u001b[0m\u001b[0;34m\u001b[0m\u001b[0m\n\u001b[1;32m      2\u001b[0m \u001b[0m_cursor\u001b[0m \u001b[0;34m=\u001b[0m \u001b[0mconnection\u001b[0m\u001b[0;34m.\u001b[0m\u001b[0mcursor\u001b[0m\u001b[0;34m(\u001b[0m\u001b[0;34m)\u001b[0m\u001b[0;34m\u001b[0m\u001b[0;34m\u001b[0m\u001b[0m\n\u001b[0;32m----> 3\u001b[0;31m \u001b[0mdf\u001b[0m\u001b[0;34m.\u001b[0m\u001b[0mto_sql\u001b[0m\u001b[0;34m(\u001b[0m\u001b[0;34m\"titanic\"\u001b[0m\u001b[0;34m,\u001b[0m \u001b[0mconnection\u001b[0m\u001b[0;34m)\u001b[0m\u001b[0;34m\u001b[0m\u001b[0;34m\u001b[0m\u001b[0m\n\u001b[0m",
      "\u001b[0;32m~/miniconda3/envs/juslearn/lib/python3.8/site-packages/pandas/core/generic.py\u001b[0m in \u001b[0;36mto_sql\u001b[0;34m(self, name, con, schema, if_exists, index, index_label, chunksize, dtype, method)\u001b[0m\n\u001b[1;32m   2777\u001b[0m         \u001b[0;32mfrom\u001b[0m \u001b[0mpandas\u001b[0m\u001b[0;34m.\u001b[0m\u001b[0mio\u001b[0m \u001b[0;32mimport\u001b[0m \u001b[0msql\u001b[0m\u001b[0;34m\u001b[0m\u001b[0;34m\u001b[0m\u001b[0m\n\u001b[1;32m   2778\u001b[0m \u001b[0;34m\u001b[0m\u001b[0m\n\u001b[0;32m-> 2779\u001b[0;31m         sql.to_sql(\n\u001b[0m\u001b[1;32m   2780\u001b[0m             \u001b[0mself\u001b[0m\u001b[0;34m,\u001b[0m\u001b[0;34m\u001b[0m\u001b[0;34m\u001b[0m\u001b[0m\n\u001b[1;32m   2781\u001b[0m             \u001b[0mname\u001b[0m\u001b[0;34m,\u001b[0m\u001b[0;34m\u001b[0m\u001b[0;34m\u001b[0m\u001b[0m\n",
      "\u001b[0;32m~/miniconda3/envs/juslearn/lib/python3.8/site-packages/pandas/io/sql.py\u001b[0m in \u001b[0;36mto_sql\u001b[0;34m(frame, name, con, schema, if_exists, index, index_label, chunksize, dtype, method)\u001b[0m\n\u001b[1;32m    599\u001b[0m         )\n\u001b[1;32m    600\u001b[0m \u001b[0;34m\u001b[0m\u001b[0m\n\u001b[0;32m--> 601\u001b[0;31m     pandas_sql.to_sql(\n\u001b[0m\u001b[1;32m    602\u001b[0m         \u001b[0mframe\u001b[0m\u001b[0;34m,\u001b[0m\u001b[0;34m\u001b[0m\u001b[0;34m\u001b[0m\u001b[0m\n\u001b[1;32m    603\u001b[0m         \u001b[0mname\u001b[0m\u001b[0;34m,\u001b[0m\u001b[0;34m\u001b[0m\u001b[0;34m\u001b[0m\u001b[0m\n",
      "\u001b[0;32m~/miniconda3/envs/juslearn/lib/python3.8/site-packages/pandas/io/sql.py\u001b[0m in \u001b[0;36mto_sql\u001b[0;34m(self, frame, name, if_exists, index, index_label, schema, chunksize, dtype, method)\u001b[0m\n\u001b[1;32m   1869\u001b[0m             \u001b[0mdtype\u001b[0m\u001b[0;34m=\u001b[0m\u001b[0mdtype\u001b[0m\u001b[0;34m,\u001b[0m\u001b[0;34m\u001b[0m\u001b[0;34m\u001b[0m\u001b[0m\n\u001b[1;32m   1870\u001b[0m         )\n\u001b[0;32m-> 1871\u001b[0;31m         \u001b[0mtable\u001b[0m\u001b[0;34m.\u001b[0m\u001b[0mcreate\u001b[0m\u001b[0;34m(\u001b[0m\u001b[0;34m)\u001b[0m\u001b[0;34m\u001b[0m\u001b[0;34m\u001b[0m\u001b[0m\n\u001b[0m\u001b[1;32m   1872\u001b[0m         \u001b[0mtable\u001b[0m\u001b[0;34m.\u001b[0m\u001b[0minsert\u001b[0m\u001b[0;34m(\u001b[0m\u001b[0mchunksize\u001b[0m\u001b[0;34m,\u001b[0m \u001b[0mmethod\u001b[0m\u001b[0;34m)\u001b[0m\u001b[0;34m\u001b[0m\u001b[0;34m\u001b[0m\u001b[0m\n\u001b[1;32m   1873\u001b[0m \u001b[0;34m\u001b[0m\u001b[0m\n",
      "\u001b[0;32m~/miniconda3/envs/juslearn/lib/python3.8/site-packages/pandas/io/sql.py\u001b[0m in \u001b[0;36mcreate\u001b[0;34m(self)\u001b[0m\n\u001b[1;32m    736\u001b[0m         \u001b[0;32mif\u001b[0m \u001b[0mself\u001b[0m\u001b[0;34m.\u001b[0m\u001b[0mexists\u001b[0m\u001b[0;34m(\u001b[0m\u001b[0;34m)\u001b[0m\u001b[0;34m:\u001b[0m\u001b[0;34m\u001b[0m\u001b[0;34m\u001b[0m\u001b[0m\n\u001b[1;32m    737\u001b[0m             \u001b[0;32mif\u001b[0m \u001b[0mself\u001b[0m\u001b[0;34m.\u001b[0m\u001b[0mif_exists\u001b[0m \u001b[0;34m==\u001b[0m \u001b[0;34m\"fail\"\u001b[0m\u001b[0;34m:\u001b[0m\u001b[0;34m\u001b[0m\u001b[0;34m\u001b[0m\u001b[0m\n\u001b[0;32m--> 738\u001b[0;31m                 \u001b[0;32mraise\u001b[0m \u001b[0mValueError\u001b[0m\u001b[0;34m(\u001b[0m\u001b[0;34mf\"Table '{self.name}' already exists.\"\u001b[0m\u001b[0;34m)\u001b[0m\u001b[0;34m\u001b[0m\u001b[0;34m\u001b[0m\u001b[0m\n\u001b[0m\u001b[1;32m    739\u001b[0m             \u001b[0;32melif\u001b[0m \u001b[0mself\u001b[0m\u001b[0;34m.\u001b[0m\u001b[0mif_exists\u001b[0m \u001b[0;34m==\u001b[0m \u001b[0;34m\"replace\"\u001b[0m\u001b[0;34m:\u001b[0m\u001b[0;34m\u001b[0m\u001b[0;34m\u001b[0m\u001b[0m\n\u001b[1;32m    740\u001b[0m                 \u001b[0mself\u001b[0m\u001b[0;34m.\u001b[0m\u001b[0mpd_sql\u001b[0m\u001b[0;34m.\u001b[0m\u001b[0mdrop_table\u001b[0m\u001b[0;34m(\u001b[0m\u001b[0mself\u001b[0m\u001b[0;34m.\u001b[0m\u001b[0mname\u001b[0m\u001b[0;34m,\u001b[0m \u001b[0mself\u001b[0m\u001b[0;34m.\u001b[0m\u001b[0mschema\u001b[0m\u001b[0;34m)\u001b[0m\u001b[0;34m\u001b[0m\u001b[0;34m\u001b[0m\u001b[0m\n",
      "\u001b[0;31mValueError\u001b[0m: Table 'titanic' already exists."
     ]
    }
   ],
   "source": [
    "connection = sqlite3.connect(\"titanic.db\")\n",
    "_cursor = connection.cursor()\n",
    "df.to_sql(\"titanic\", connection)"
   ]
  },
  {
   "cell_type": "code",
   "execution_count": 36,
   "metadata": {},
   "outputs": [
    {
     "output_type": "execute_result",
     "data": {
      "text/plain": [
       "[(0,\n",
       "  1,\n",
       "  0,\n",
       "  3,\n",
       "  'Braund, Mr. Owen Harris',\n",
       "  'male',\n",
       "  22.0,\n",
       "  1,\n",
       "  0,\n",
       "  'A/5 21171',\n",
       "  7.25,\n",
       "  None,\n",
       "  'S'),\n",
       " (1,\n",
       "  2,\n",
       "  1,\n",
       "  1,\n",
       "  'Cumings, Mrs. John Bradley (Florence Briggs Thayer)',\n",
       "  'female',\n",
       "  38.0,\n",
       "  1,\n",
       "  0,\n",
       "  'PC 17599',\n",
       "  71.2833,\n",
       "  'C85',\n",
       "  'C'),\n",
       " (2,\n",
       "  3,\n",
       "  1,\n",
       "  3,\n",
       "  'Heikkinen, Miss. Laina',\n",
       "  'female',\n",
       "  26.0,\n",
       "  0,\n",
       "  0,\n",
       "  'STON/O2. 3101282',\n",
       "  7.925,\n",
       "  None,\n",
       "  'S'),\n",
       " (3,\n",
       "  4,\n",
       "  1,\n",
       "  1,\n",
       "  'Futrelle, Mrs. Jacques Heath (Lily May Peel)',\n",
       "  'female',\n",
       "  35.0,\n",
       "  1,\n",
       "  0,\n",
       "  '113803',\n",
       "  53.1,\n",
       "  'C123',\n",
       "  'S'),\n",
       " (4,\n",
       "  5,\n",
       "  0,\n",
       "  3,\n",
       "  'Allen, Mr. William Henry',\n",
       "  'male',\n",
       "  35.0,\n",
       "  0,\n",
       "  0,\n",
       "  '373450',\n",
       "  8.05,\n",
       "  None,\n",
       "  'S')]"
      ]
     },
     "metadata": {},
     "execution_count": 36
    }
   ],
   "source": [
    "_cursor.execute(\"SELECT * from titanic;\").fetchmany(5)"
   ]
  },
  {
   "cell_type": "code",
   "execution_count": 37,
   "metadata": {},
   "outputs": [
    {
     "output_type": "stream",
     "name": "stdout",
     "text": [
      "     PassengerId  Survived  Pclass  \\\n0              1         0       3   \n1              2         1       1   \n2              3         1       3   \n3              4         1       1   \n4              5         0       3   \n..           ...       ...     ...   \n886          887         0       2   \n887          888         1       1   \n888          889         0       3   \n889          890         1       1   \n890          891         0       3   \n\n                                                  Name     Sex   Age  SibSp  \\\n0                              Braund, Mr. Owen Harris    male  22.0      1   \n1    Cumings, Mrs. John Bradley (Florence Briggs Th...  female  38.0      1   \n2                               Heikkinen, Miss. Laina  female  26.0      0   \n3         Futrelle, Mrs. Jacques Heath (Lily May Peel)  female  35.0      1   \n4                             Allen, Mr. William Henry    male  35.0      0   \n..                                                 ...     ...   ...    ...   \n886                              Montvila, Rev. Juozas    male  27.0      0   \n887                       Graham, Miss. Margaret Edith  female  19.0      0   \n888           Johnston, Miss. Catherine Helen \"Carrie\"  female   NaN      1   \n889                              Behr, Mr. Karl Howell    male  26.0      0   \n890                                Dooley, Mr. Patrick    male  32.0      0   \n\n     Parch            Ticket     Fare Cabin Embarked  \n0        0         A/5 21171   7.2500   NaN        S  \n1        0          PC 17599  71.2833   C85        C  \n2        0  STON/O2. 3101282   7.9250   NaN        S  \n3        0            113803  53.1000  C123        S  \n4        0            373450   8.0500   NaN        S  \n..     ...               ...      ...   ...      ...  \n886      0            211536  13.0000   NaN        S  \n887      0            112053  30.0000   B42        S  \n888      2        W./C. 6607  23.4500   NaN        S  \n889      0            111369  30.0000  C148        C  \n890      0            370376   7.7500   NaN        Q  \n\n[891 rows x 12 columns]\n"
     ]
    }
   ],
   "source": [
    "print(df)"
   ]
  },
  {
   "cell_type": "code",
   "execution_count": 59,
   "metadata": {},
   "outputs": [
    {
     "output_type": "execute_result",
     "data": {
      "text/plain": [
       "[('McCarthy, Mr. Timothy J',),\n",
       " ('Bonnell, Miss. Elizabeth',),\n",
       " ('Hewlett, Mrs. (Mary D Kingcome) ',),\n",
       " ('Wheadon, Mr. Edward H',),\n",
       " ('Ostby, Mr. Engelhart Cornelius',),\n",
       " ('Coxon, Mr. Daniel',),\n",
       " ('Goldschmidt, Mr. George B',),\n",
       " ('Connors, Mr. Patrick',),\n",
       " ('White, Mr. Percival Wayland',),\n",
       " ('Bateman, Rev. Robert James',),\n",
       " ('Meo, Mr. Alfonzo',),\n",
       " ('Williams, Mr. Charles Duane',),\n",
       " ('Van der hoef, Mr. Wyckoff',),\n",
       " ('Smith, Mr. James Clinch',),\n",
       " ('Isham, Miss. Ann Elizabeth',),\n",
       " ('Lurette, Miss. Elise',),\n",
       " ('Green, Mr. George Henry',),\n",
       " ('Sjostedt, Mr. Ernst Adolf',),\n",
       " ('Carter, Rev. Ernest Courtenay',),\n",
       " ('Stead, Mr. William Thomas',),\n",
       " ('Parrish, Mrs. (Lutie Davis)',),\n",
       " ('Taussig, Mr. Emil',),\n",
       " ('Graham, Mrs. William Thompson (Edith Junkins)',),\n",
       " ('Andrews, Miss. Kornelia Theodosia',),\n",
       " ('Duane, Mr. Frank',),\n",
       " ('Baxter, Mrs. James (Helene DeLaudeniere Chaput)',),\n",
       " ('Moraweck, Dr. Ernest',),\n",
       " ('Nysveen, Mr. Johan Hansen',),\n",
       " ('Warren, Mrs. Frank Manley (Anna Sophia Atkinson)',),\n",
       " ('Widegren, Mr. Carl/Charles Peter',),\n",
       " ('Silvey, Mr. William Baird',),\n",
       " ('Fortune, Mr. Mark',),\n",
       " ('Peuchen, Major. Arthur Godfrey',),\n",
       " ('Millet, Mr. Francis Davis',),\n",
       " ('Toomey, Miss. Ellen',),\n",
       " ('Smart, Mr. John Montgomery',),\n",
       " ('Rouse, Mr. Richard Henry',),\n",
       " ('Turkula, Mrs. (Hedwig)',),\n",
       " ('Kent, Mr. Edward Austin',),\n",
       " ('Molson, Mr. Harry Markland',),\n",
       " ('Artagaveytia, Mr. Ramon',),\n",
       " ('Eustis, Miss. Elizabeth Mussey',),\n",
       " ('Rothschild, Mrs. Martin (Elizabeth L. Barrett)',),\n",
       " ('Ridsdale, Miss. Lucy',),\n",
       " ('Douglas, Mr. Walter Donald',),\n",
       " ('Nicholson, Mr. Arthur Ernest',),\n",
       " ('Wright, Mr. George',),\n",
       " ('Harris, Mr. George',),\n",
       " ('Appleton, Mrs. Edward Dale (Charlotte Lamson)',),\n",
       " ('Downton, Mr. William James',),\n",
       " ('Frolicher-Stehli, Mr. Maxmillian',),\n",
       " ('Stephenson, Mrs. Walter Bertram (Martha Eustis)',),\n",
       " ('Sutton, Mr. Frederick',),\n",
       " ('Kirkland, Rev. Charles Leonard',),\n",
       " ('Barkworth, Mr. Algernon Henry Wilson',),\n",
       " ('Lundahl, Mr. Johan Svensson',),\n",
       " ('Simonius-Blumer, Col. Oberst Alfons',),\n",
       " ('Newell, Mr. Arthur Webster',),\n",
       " ('Frauenthal, Dr. Henry William',),\n",
       " ('Mitchell, Mr. Henry Michael',),\n",
       " ('Brown, Mr. Thomas William Solomon',),\n",
       " ('Weir, Col. John',),\n",
       " ('Chapman, Mr. Charles Henry',),\n",
       " ('Greenberg, Mr. Samuel',),\n",
       " ('Hodges, Mr. Henry Price',),\n",
       " ('Crosby, Capt. Edward Gifford',),\n",
       " ('Hogeboom, Mrs. John C (Anna Andrews)',),\n",
       " ('Mack, Mrs. (Mary)',),\n",
       " ('Hocking, Mrs. Elizabeth (Eliza Needs)',),\n",
       " ('Hays, Mrs. Charles Melville (Clara Jennings Gregg)',),\n",
       " ('Stone, Mrs. George Nelson (Martha Evelyn)',),\n",
       " ('Svensson, Mr. Johan',),\n",
       " ('Daly, Mr. Peter Denis ',),\n",
       " ('Potter, Mrs. Thomas Jr (Lily Alexenia Wilson)',)]"
      ]
     },
     "metadata": {},
     "execution_count": 59
    }
   ],
   "source": [
    "_cursor.execute(\"SELECT Name FROM titanic WHERE Age >= 50.0;\").fetchall()"
   ]
  },
  {
   "cell_type": "code",
   "execution_count": 39,
   "metadata": {},
   "outputs": [
    {
     "output_type": "execute_result",
     "data": {
      "text/plain": [
       "[('Isham, Miss. Ann Elizabeth',),\n",
       " ('Parrish, Mrs. (Lutie Davis)',),\n",
       " ('Baxter, Mrs. James (Helene DeLaudeniere Chaput)',),\n",
       " ('Silvey, Mr. William Baird',),\n",
       " ('Toomey, Miss. Ellen',),\n",
       " ('Rouse, Mr. Richard Henry',),\n",
       " ('Ridsdale, Miss. Lucy',),\n",
       " ('Douglas, Mr. Walter Donald',),\n",
       " ('Frauenthal, Dr. Henry William',),\n",
       " ('Hodges, Mr. Henry Price',)]"
      ]
     },
     "metadata": {},
     "execution_count": 39
    }
   ],
   "source": [
    "_cursor.execute(\"SELECT Name FROM titanic WHERE Age = 50.0;\").fetchall()"
   ]
  },
  {
   "cell_type": "code",
   "execution_count": 57,
   "metadata": {},
   "outputs": [
    {
     "output_type": "stream",
     "name": "stdout",
     "text": [
      "(314,)\n"
     ]
    }
   ],
   "source": [
    "femme = _cursor.execute(\"\"\"SELECT COUNT(*) FROM titanic WHERE Sex = 'female'; \"\"\").fetchone()\n",
    "print(femme)"
   ]
  },
  {
   "cell_type": "code",
   "execution_count": 56,
   "metadata": {},
   "outputs": [
    {
     "output_type": "execute_result",
     "data": {
      "text/plain": [
       "     index  PassengerId  Survived  Pclass  \\\n",
       "0        0            1         0       3   \n",
       "1        1            2         1       1   \n",
       "2        2            3         1       3   \n",
       "3        3            4         1       1   \n",
       "4        4            5         0       3   \n",
       "..     ...          ...       ...     ...   \n",
       "886    886          887         0       2   \n",
       "887    887          888         1       1   \n",
       "888    888          889         0       3   \n",
       "889    889          890         1       1   \n",
       "890    890          891         0       3   \n",
       "\n",
       "                                                  Name     Sex   Age  SibSp  \\\n",
       "0                              Braund, Mr. Owen Harris    male  22.0      1   \n",
       "1    Cumings, Mrs. John Bradley (Florence Briggs Th...  female  38.0      1   \n",
       "2                               Heikkinen, Miss. Laina  female  26.0      0   \n",
       "3         Futrelle, Mrs. Jacques Heath (Lily May Peel)  female  35.0      1   \n",
       "4                             Allen, Mr. William Henry    male  35.0      0   \n",
       "..                                                 ...     ...   ...    ...   \n",
       "886                              Montvila, Rev. Juozas    male  27.0      0   \n",
       "887                       Graham, Miss. Margaret Edith  female  19.0      0   \n",
       "888           Johnston, Miss. Catherine Helen \"Carrie\"  female   NaN      1   \n",
       "889                              Behr, Mr. Karl Howell    male  26.0      0   \n",
       "890                                Dooley, Mr. Patrick    male  32.0      0   \n",
       "\n",
       "     Parch            Ticket     Fare Cabin Embarked  \n",
       "0        0         A/5 21171   7.2500  None        S  \n",
       "1        0          PC 17599  71.2833   C85        C  \n",
       "2        0  STON/O2. 3101282   7.9250  None        S  \n",
       "3        0            113803  53.1000  C123        S  \n",
       "4        0            373450   8.0500  None        S  \n",
       "..     ...               ...      ...   ...      ...  \n",
       "886      0            211536  13.0000  None        S  \n",
       "887      0            112053  30.0000   B42        S  \n",
       "888      2        W./C. 6607  23.4500  None        S  \n",
       "889      0            111369  30.0000  C148        C  \n",
       "890      0            370376   7.7500  None        Q  \n",
       "\n",
       "[891 rows x 13 columns]"
      ],
      "text/html": "<div>\n<style scoped>\n    .dataframe tbody tr th:only-of-type {\n        vertical-align: middle;\n    }\n\n    .dataframe tbody tr th {\n        vertical-align: top;\n    }\n\n    .dataframe thead th {\n        text-align: right;\n    }\n</style>\n<table border=\"1\" class=\"dataframe\">\n  <thead>\n    <tr style=\"text-align: right;\">\n      <th></th>\n      <th>index</th>\n      <th>PassengerId</th>\n      <th>Survived</th>\n      <th>Pclass</th>\n      <th>Name</th>\n      <th>Sex</th>\n      <th>Age</th>\n      <th>SibSp</th>\n      <th>Parch</th>\n      <th>Ticket</th>\n      <th>Fare</th>\n      <th>Cabin</th>\n      <th>Embarked</th>\n    </tr>\n  </thead>\n  <tbody>\n    <tr>\n      <th>0</th>\n      <td>0</td>\n      <td>1</td>\n      <td>0</td>\n      <td>3</td>\n      <td>Braund, Mr. Owen Harris</td>\n      <td>male</td>\n      <td>22.0</td>\n      <td>1</td>\n      <td>0</td>\n      <td>A/5 21171</td>\n      <td>7.2500</td>\n      <td>None</td>\n      <td>S</td>\n    </tr>\n    <tr>\n      <th>1</th>\n      <td>1</td>\n      <td>2</td>\n      <td>1</td>\n      <td>1</td>\n      <td>Cumings, Mrs. John Bradley (Florence Briggs Th...</td>\n      <td>female</td>\n      <td>38.0</td>\n      <td>1</td>\n      <td>0</td>\n      <td>PC 17599</td>\n      <td>71.2833</td>\n      <td>C85</td>\n      <td>C</td>\n    </tr>\n    <tr>\n      <th>2</th>\n      <td>2</td>\n      <td>3</td>\n      <td>1</td>\n      <td>3</td>\n      <td>Heikkinen, Miss. Laina</td>\n      <td>female</td>\n      <td>26.0</td>\n      <td>0</td>\n      <td>0</td>\n      <td>STON/O2. 3101282</td>\n      <td>7.9250</td>\n      <td>None</td>\n      <td>S</td>\n    </tr>\n    <tr>\n      <th>3</th>\n      <td>3</td>\n      <td>4</td>\n      <td>1</td>\n      <td>1</td>\n      <td>Futrelle, Mrs. Jacques Heath (Lily May Peel)</td>\n      <td>female</td>\n      <td>35.0</td>\n      <td>1</td>\n      <td>0</td>\n      <td>113803</td>\n      <td>53.1000</td>\n      <td>C123</td>\n      <td>S</td>\n    </tr>\n    <tr>\n      <th>4</th>\n      <td>4</td>\n      <td>5</td>\n      <td>0</td>\n      <td>3</td>\n      <td>Allen, Mr. William Henry</td>\n      <td>male</td>\n      <td>35.0</td>\n      <td>0</td>\n      <td>0</td>\n      <td>373450</td>\n      <td>8.0500</td>\n      <td>None</td>\n      <td>S</td>\n    </tr>\n    <tr>\n      <th>...</th>\n      <td>...</td>\n      <td>...</td>\n      <td>...</td>\n      <td>...</td>\n      <td>...</td>\n      <td>...</td>\n      <td>...</td>\n      <td>...</td>\n      <td>...</td>\n      <td>...</td>\n      <td>...</td>\n      <td>...</td>\n      <td>...</td>\n    </tr>\n    <tr>\n      <th>886</th>\n      <td>886</td>\n      <td>887</td>\n      <td>0</td>\n      <td>2</td>\n      <td>Montvila, Rev. Juozas</td>\n      <td>male</td>\n      <td>27.0</td>\n      <td>0</td>\n      <td>0</td>\n      <td>211536</td>\n      <td>13.0000</td>\n      <td>None</td>\n      <td>S</td>\n    </tr>\n    <tr>\n      <th>887</th>\n      <td>887</td>\n      <td>888</td>\n      <td>1</td>\n      <td>1</td>\n      <td>Graham, Miss. Margaret Edith</td>\n      <td>female</td>\n      <td>19.0</td>\n      <td>0</td>\n      <td>0</td>\n      <td>112053</td>\n      <td>30.0000</td>\n      <td>B42</td>\n      <td>S</td>\n    </tr>\n    <tr>\n      <th>888</th>\n      <td>888</td>\n      <td>889</td>\n      <td>0</td>\n      <td>3</td>\n      <td>Johnston, Miss. Catherine Helen \"Carrie\"</td>\n      <td>female</td>\n      <td>NaN</td>\n      <td>1</td>\n      <td>2</td>\n      <td>W./C. 6607</td>\n      <td>23.4500</td>\n      <td>None</td>\n      <td>S</td>\n    </tr>\n    <tr>\n      <th>889</th>\n      <td>889</td>\n      <td>890</td>\n      <td>1</td>\n      <td>1</td>\n      <td>Behr, Mr. Karl Howell</td>\n      <td>male</td>\n      <td>26.0</td>\n      <td>0</td>\n      <td>0</td>\n      <td>111369</td>\n      <td>30.0000</td>\n      <td>C148</td>\n      <td>C</td>\n    </tr>\n    <tr>\n      <th>890</th>\n      <td>890</td>\n      <td>891</td>\n      <td>0</td>\n      <td>3</td>\n      <td>Dooley, Mr. Patrick</td>\n      <td>male</td>\n      <td>32.0</td>\n      <td>0</td>\n      <td>0</td>\n      <td>370376</td>\n      <td>7.7500</td>\n      <td>None</td>\n      <td>Q</td>\n    </tr>\n  </tbody>\n</table>\n<p>891 rows × 13 columns</p>\n</div>"
     },
     "metadata": {},
     "execution_count": 56
    }
   ],
   "source": [
    "new_df = pd.read_sql_query('''SELECT * from titanic;''', connection)\n",
    "new_df"
   ]
  },
  {
   "cell_type": "code",
   "execution_count": 142,
   "metadata": {},
   "outputs": [],
   "source": [
    "import requests\n",
    "from bs4 import BeautifulSoup\n",
    "\n",
    "#webpage_response = requests.get('https://towardsdatascience.com/making-docker-and-conda-play-well-together-eda0ff995e3c')\n",
    "webpage_response = requests.get('https://content.codecademy.com/courses/beautifulsoup/shellter.html')\n",
    "prefix = \"https://content.codecademy.com/courses/beautifulsoup/\"\n",
    "\n",
    "_webpage = webpage_response.content\n",
    "soup = BeautifulSoup(_webpage, \"html.parser\")"
   ]
  },
  {
   "cell_type": "code",
   "execution_count": 143,
   "metadata": {
    "tags": []
   },
   "outputs": [],
   "source": [
    "webpage_links = soup.find_all(\"a\")\n",
    "links = []\n",
    "turtle_data = {}"
   ]
  },
  {
   "cell_type": "code",
   "execution_count": 144,
   "metadata": {
    "tags": []
   },
   "outputs": [],
   "source": [
    "for link in webpage_links:\n",
    "    links.append(prefix+link[\"href\"])"
   ]
  },
  {
   "cell_type": "code",
   "execution_count": 145,
   "metadata": {},
   "outputs": [
    {
     "output_type": "stream",
     "name": "stdout",
     "text": [
      "[]\n",
      "[]\n",
      "[]\n",
      "[]\n",
      "[]\n",
      "[]\n",
      "[]\n",
      "[]\n",
      "[]\n"
     ]
    }
   ],
   "source": [
    "# follow the links loop\n",
    "for link in links:\n",
    "    webpage = requests.get(link)\n",
    "    _turtle = BeautifulSoup(webpage.content, \"html.parser\")\n",
    "\n",
    "    turtle_name = _turtle.select(\"name\")\n",
    "    print(turtle_name)"
   ]
  }
 ]
}